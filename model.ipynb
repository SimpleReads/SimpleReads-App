{
 "cells": [
  {
   "cell_type": "code",
   "execution_count": 1,
   "metadata": {},
   "outputs": [
    {
     "name": "stderr",
     "output_type": "stream",
     "text": [
      "\n",
      "[notice] A new release of pip is available: 23.1.2 -> 23.2.1\n",
      "[notice] To update, run: python.exe -m pip install --upgrade pip\n"
     ]
    }
   ],
   "source": [
    "!pip install \"transformers==4.31.0\" \"datasets[s3]==2.13.0\" sagemaker --upgrade --quiet"
   ]
  },
  {
   "cell_type": "code",
   "execution_count": 11,
   "metadata": {},
   "outputs": [
    {
     "name": "stdout",
     "output_type": "stream",
     "text": [
      "Token will not been saved to git credential helper. Pass `add_to_git_credential=True` if you want to set the git credential as well.\n",
      "Token is valid (permission: read).\n",
      "Your token has been saved to C:\\Users\\Riley\\.cache\\huggingface\\token\n",
      "Login successful\n"
     ]
    }
   ],
   "source": [
    "# Get the token from .env file\n",
    "import os\n",
    "from dotenv import load_dotenv\n",
    "load_dotenv()\n",
    "\n",
    "# Get the token from the environment variable called HF_TOKEN\n",
    "hf_token = os.getenv(\"HF_TOKEN\")\n",
    "\n",
    "!huggingface-cli login --token {hf_token}\n"
   ]
  },
  {
   "cell_type": "code",
   "execution_count": 12,
   "metadata": {},
   "outputs": [
    {
     "ename": "ValueError",
     "evalue": "Must setup local AWS configuration with a region supported by SageMaker.",
     "output_type": "error",
     "traceback": [
      "\u001b[1;31m---------------------------------------------------------------------------\u001b[0m",
      "\u001b[1;31mValueError\u001b[0m                                Traceback (most recent call last)",
      "Cell \u001b[1;32mIn[12], line 3\u001b[0m\n\u001b[0;32m      1\u001b[0m \u001b[39mimport\u001b[39;00m \u001b[39msagemaker\u001b[39;00m\n\u001b[0;32m      2\u001b[0m \u001b[39mimport\u001b[39;00m \u001b[39mboto3\u001b[39;00m\n\u001b[1;32m----> 3\u001b[0m sess \u001b[39m=\u001b[39m sagemaker\u001b[39m.\u001b[39;49mSession()\n\u001b[0;32m      4\u001b[0m \u001b[39m# sagemaker session bucket -> used for uploading data, models and logs\u001b[39;00m\n\u001b[0;32m      5\u001b[0m \u001b[39m# sagemaker will automatically create this bucket if it not exists\u001b[39;00m\n\u001b[0;32m      6\u001b[0m sagemaker_session_bucket\u001b[39m=\u001b[39m\u001b[39mNone\u001b[39;00m\n",
      "File \u001b[1;32mc:\\Users\\Riley\\AppData\\Local\\Programs\\Python\\Python311\\Lib\\site-packages\\sagemaker\\session.py:244\u001b[0m, in \u001b[0;36mSession.__init__\u001b[1;34m(self, boto_session, sagemaker_client, sagemaker_runtime_client, sagemaker_featurestore_runtime_client, default_bucket, settings, sagemaker_metrics_client, sagemaker_config, default_bucket_prefix)\u001b[0m\n\u001b[0;32m    241\u001b[0m \u001b[39mself\u001b[39m\u001b[39m.\u001b[39mlambda_client \u001b[39m=\u001b[39m \u001b[39mNone\u001b[39;00m\n\u001b[0;32m    242\u001b[0m \u001b[39mself\u001b[39m\u001b[39m.\u001b[39msettings \u001b[39m=\u001b[39m settings\n\u001b[1;32m--> 244\u001b[0m \u001b[39mself\u001b[39;49m\u001b[39m.\u001b[39;49m_initialize(\n\u001b[0;32m    245\u001b[0m     boto_session\u001b[39m=\u001b[39;49mboto_session,\n\u001b[0;32m    246\u001b[0m     sagemaker_client\u001b[39m=\u001b[39;49msagemaker_client,\n\u001b[0;32m    247\u001b[0m     sagemaker_runtime_client\u001b[39m=\u001b[39;49msagemaker_runtime_client,\n\u001b[0;32m    248\u001b[0m     sagemaker_featurestore_runtime_client\u001b[39m=\u001b[39;49msagemaker_featurestore_runtime_client,\n\u001b[0;32m    249\u001b[0m     sagemaker_metrics_client\u001b[39m=\u001b[39;49msagemaker_metrics_client,\n\u001b[0;32m    250\u001b[0m     sagemaker_config\u001b[39m=\u001b[39;49msagemaker_config,\n\u001b[0;32m    251\u001b[0m )\n",
      "File \u001b[1;32mc:\\Users\\Riley\\AppData\\Local\\Programs\\Python\\Python311\\Lib\\site-packages\\sagemaker\\session.py:271\u001b[0m, in \u001b[0;36mSession._initialize\u001b[1;34m(self, boto_session, sagemaker_client, sagemaker_runtime_client, sagemaker_featurestore_runtime_client, sagemaker_metrics_client, sagemaker_config)\u001b[0m\n\u001b[0;32m    269\u001b[0m \u001b[39mself\u001b[39m\u001b[39m.\u001b[39m_region_name \u001b[39m=\u001b[39m \u001b[39mself\u001b[39m\u001b[39m.\u001b[39mboto_session\u001b[39m.\u001b[39mregion_name\n\u001b[0;32m    270\u001b[0m \u001b[39mif\u001b[39;00m \u001b[39mself\u001b[39m\u001b[39m.\u001b[39m_region_name \u001b[39mis\u001b[39;00m \u001b[39mNone\u001b[39;00m:\n\u001b[1;32m--> 271\u001b[0m     \u001b[39mraise\u001b[39;00m \u001b[39mValueError\u001b[39;00m(\n\u001b[0;32m    272\u001b[0m         \u001b[39m\"\u001b[39m\u001b[39mMust setup local AWS configuration with a region supported by SageMaker.\u001b[39m\u001b[39m\"\u001b[39m\n\u001b[0;32m    273\u001b[0m     )\n\u001b[0;32m    275\u001b[0m \u001b[39mself\u001b[39m\u001b[39m.\u001b[39msagemaker_client \u001b[39m=\u001b[39m sagemaker_client \u001b[39mor\u001b[39;00m \u001b[39mself\u001b[39m\u001b[39m.\u001b[39mboto_session\u001b[39m.\u001b[39mclient(\u001b[39m\"\u001b[39m\u001b[39msagemaker\u001b[39m\u001b[39m\"\u001b[39m)\n\u001b[0;32m    276\u001b[0m prepend_user_agent(\u001b[39mself\u001b[39m\u001b[39m.\u001b[39msagemaker_client)\n",
      "\u001b[1;31mValueError\u001b[0m: Must setup local AWS configuration with a region supported by SageMaker."
     ]
    }
   ],
   "source": [
    "import sagemaker\n",
    "import boto3\n",
    "sess = sagemaker.Session()\n",
    "# sagemaker session bucket -> used for uploading data, models and logs\n",
    "# sagemaker will automatically create this bucket if it not exists\n",
    "sagemaker_session_bucket=None\n",
    "aws_defaulted_region = os.getenv(\"AWS_DEFAULT_REGION\")\n",
    "if sagemaker_session_bucket is None and sess is not None:\n",
    "    # set to default bucket if a bucket name is not given\n",
    "    sagemaker_session_bucket = sess.default_bucket()\n",
    "\n",
    "try:\n",
    "    role = sagemaker.get_execution_role()\n",
    "except ValueError:\n",
    "    iam = boto3.client('iam')\n",
    "    role = iam.get_role(RoleName='sagemaker_execution_role')['Role']['Arn']\n",
    "\n",
    "sess = sagemaker.Session(default_bucket=sagemaker_session_bucket)\n",
    "\n",
    "print(f\"sagemaker role arn: {role}\")\n",
    "print(f\"sagemaker bucket: {sess.default_bucket()}\")\n",
    "print(f\"sagemaker session region: {sess.boto_region_name}\")\n",
    "\n"
   ]
  },
  {
   "cell_type": "code",
   "execution_count": null,
   "metadata": {},
   "outputs": [],
   "source": []
  }
 ],
 "metadata": {
  "kernelspec": {
   "display_name": "Python 3",
   "language": "python",
   "name": "python3"
  },
  "language_info": {
   "codemirror_mode": {
    "name": "ipython",
    "version": 3
   },
   "file_extension": ".py",
   "mimetype": "text/x-python",
   "name": "python",
   "nbconvert_exporter": "python",
   "pygments_lexer": "ipython3",
   "version": "3.11.4"
  },
  "orig_nbformat": 4
 },
 "nbformat": 4,
 "nbformat_minor": 2
}
